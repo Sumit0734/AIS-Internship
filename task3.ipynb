{
 "cells": [
  {
   "cell_type": "code",
   "execution_count": 16,
   "id": "7f10a942",
   "metadata": {},
   "outputs": [
    {
     "data": {
      "text/plain": [
       "97"
      ]
     },
     "execution_count": 16,
     "metadata": {},
     "output_type": "execute_result"
    }
   ],
   "source": [
    "#Write a Python function to find the maximum of from given\n",
    "def max_number(num):\n",
    "    for i in num:\n",
    "        return max(num)\n",
    "num=[42,35,78,17,35,97,36,0,25]\n",
    "max_number(num)"
   ]
  },
  {
   "cell_type": "code",
   "execution_count": 26,
   "id": "e45ceb93",
   "metadata": {},
   "outputs": [
    {
     "name": "stdout",
     "output_type": "stream",
     "text": [
      "20\n"
     ]
    }
   ],
   "source": [
    "#Write a Python function to sum all the numbers in a list. Sample List : [8, 2, 3, 0, 7] Expected Output : 20\n",
    "def add_list(a):\n",
    "    b=0\n",
    "    for i in range(len(a)):\n",
    "        b=b+a[i]\n",
    "    print(b)\n",
    "a=[8,2,3,0,7]\n",
    "add_list(a)"
   ]
  },
  {
   "cell_type": "code",
   "execution_count": 34,
   "id": "13d856f0",
   "metadata": {},
   "outputs": [
    {
     "name": "stdout",
     "output_type": "stream",
     "text": [
      "[1, 2, 3, 4, 5]\n"
     ]
    }
   ],
   "source": [
    "# Write a Python function that takes a list and returns a new list with distinct elements from the first list.  \n",
    "#Sample List : [1,2,3,3,3,3,4,5] Unique List : [1, 2, 3, 4, 5]\n",
    "def get_unique_elements(input_list):\n",
    "    unique_list = []\n",
    "    for item in input_list:\n",
    "        if item not in unique_list:\n",
    "            unique_list.append(item)\n",
    "    return unique_list\n",
    "\n",
    "sample_list = [1, 2, 3, 3, 3, 3, 4, 5]\n",
    "unique_list = get_unique_elements(sample_list)\n",
    "print(unique_list)"
   ]
  },
  {
   "cell_type": "code",
   "execution_count": 23,
   "id": "84ada0f7",
   "metadata": {},
   "outputs": [
    {
     "name": "stdout",
     "output_type": "stream",
     "text": [
      "('S', 'u', 'm')\n",
      "('S', 'u', 'i')\n",
      "('S', 'u', 't')\n",
      "('S', 'm', 'i')\n",
      "('S', 'm', 't')\n",
      "('S', 'i', 't')\n",
      "('u', 'm', 'i')\n",
      "('u', 'm', 't')\n",
      "('u', 'i', 't')\n",
      "('m', 'i', 't')\n"
     ]
    }
   ],
   "source": [
    "#Write a Python function total number of Combinations\n",
    "from itertools import combinations as c\n",
    "\n",
    "def combo(a,n):\n",
    "    a=c(a,n)\n",
    "    for i in a:\n",
    "        print(i)\n",
    "s=\"Sumit\"\n",
    "combo(s,3)\n"
   ]
  },
  {
   "cell_type": "code",
   "execution_count": 25,
   "id": "7c7b8d7d",
   "metadata": {},
   "outputs": [
    {
     "name": "stdout",
     "output_type": "stream",
     "text": [
      "(6, 5, 4)\n",
      "(6, 4, 5)\n",
      "(5, 6, 4)\n",
      "(5, 4, 6)\n",
      "(4, 6, 5)\n",
      "(4, 5, 6)\n"
     ]
    }
   ],
   "source": [
    "#Write a Python function total number of permutation\n",
    "from itertools import permutations as p\n",
    "\n",
    "def per(val):\n",
    "    b=p(val)\n",
    "    for i in b:\n",
    "        print(i)\n",
    "val=(6,5,4)\n",
    "per(val)"
   ]
  },
  {
   "cell_type": "code",
   "execution_count": 27,
   "id": "ea049878",
   "metadata": {},
   "outputs": [
    {
     "name": "stdout",
     "output_type": "stream",
     "text": [
      "enter what you want : sumit\n",
      "count of vowels : 2\n",
      "count of consonant : 3\n"
     ]
    }
   ],
   "source": [
    "#Define a function which counts vowels and consonant in a word.\n",
    "def vowel_count(n):\n",
    "    count = 0\n",
    "    count1 = 0\n",
    "    vowel = set(\"aeiouAEIOU\")\n",
    "    for alphabet in n:\n",
    "        if alphabet in vowel:\n",
    "            count = count + 1\n",
    "        elif alphabet not in vowel:\n",
    "            count1=count1+1\n",
    "     \n",
    "    print(\"count of vowels :\", count)\n",
    "    print(\"count of consonant :\", count1)\n",
    "n=input(\"enter what you want : \")\n",
    "vowel_count(n)"
   ]
  },
  {
   "cell_type": "code",
   "execution_count": 28,
   "id": "a15d5331",
   "metadata": {},
   "outputs": [
    {
     "name": "stdout",
     "output_type": "stream",
     "text": [
      "enter what you want : sumit\n",
      "SUMIT\n"
     ]
    }
   ],
   "source": [
    "#Define a function that accepts lowercase words and returns uppercase words.\n",
    "def upper_case(a):\n",
    "    print(a.upper())\n",
    "a=input(\"enter what you want : \")\n",
    "upper_case(a)"
   ]
  },
  {
   "cell_type": "code",
   "execution_count": 31,
   "id": "c5fe7634",
   "metadata": {},
   "outputs": [
    {
     "name": "stdout",
     "output_type": "stream",
     "text": [
      "enter what you want : SuMiT\n",
      "upper case latter in your typing is :  3\n",
      "lower case latter in your typing is :  2\n"
     ]
    }
   ],
   "source": [
    "# count lower case and upper case letter.\n",
    "def count_letters(a):\n",
    "  count = 0\n",
    "  count1 = 0\n",
    "  for letter in a:\n",
    "    if letter.islower():\n",
    "       count += 1\n",
    "    elif letter.isupper():\n",
    "      count1 += 1\n",
    "  return count,count1\n",
    "\n",
    "\n",
    "a=input(\"enter what you want : \")\n",
    "x,y=count_letters(a)\n",
    "print(\"upper case latter in your typing is : \",y)\n",
    "print(\"lower case latter in your typing is : \",x)"
   ]
  },
  {
   "cell_type": "code",
   "execution_count": null,
   "id": "76685c26",
   "metadata": {},
   "outputs": [],
   "source": []
  },
  {
   "cell_type": "code",
   "execution_count": null,
   "id": "d034e6fa",
   "metadata": {},
   "outputs": [],
   "source": []
  }
 ],
 "metadata": {
  "kernelspec": {
   "display_name": "Python 3 (ipykernel)",
   "language": "python",
   "name": "python3"
  },
  "language_info": {
   "codemirror_mode": {
    "name": "ipython",
    "version": 3
   },
   "file_extension": ".py",
   "mimetype": "text/x-python",
   "name": "python",
   "nbconvert_exporter": "python",
   "pygments_lexer": "ipython3",
   "version": "3.11.4"
  }
 },
 "nbformat": 4,
 "nbformat_minor": 5
}
